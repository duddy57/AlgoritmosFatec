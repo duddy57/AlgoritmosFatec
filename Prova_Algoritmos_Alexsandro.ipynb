{
  "nbformat": 4,
  "nbformat_minor": 0,
  "metadata": {
    "colab": {
      "provenance": [],
      "authorship_tag": "ABX9TyPan+m7Ubs5kxISM5g1hxsz",
      "include_colab_link": true
    },
    "kernelspec": {
      "name": "python3",
      "display_name": "Python 3"
    },
    "language_info": {
      "name": "python"
    }
  },
  "cells": [
    {
      "cell_type": "markdown",
      "metadata": {
        "id": "view-in-github",
        "colab_type": "text"
      },
      "source": [
        "<a href=\"https://colab.research.google.com/github/duddy57/AlgoritmosFatec/blob/main/Prova_Algoritmos_Alexsandro.ipynb\" target=\"_parent\"><img src=\"https://colab.research.google.com/assets/colab-badge.svg\" alt=\"Open In Colab\"/></a>"
      ]
    },
    {
      "cell_type": "code",
      "execution_count": 5,
      "metadata": {
        "colab": {
          "base_uri": "https://localhost:8080/"
        },
        "id": "yqp-5C4aDnK4",
        "outputId": "1b436847-9e8d-436d-87c6-5d0fa1ab1e3c"
      },
      "outputs": [
        {
          "output_type": "stream",
          "name": "stdout",
          "text": [
            "Digite seu nome: Alex\n",
            "Ola Alex, como voce esta?\n"
          ]
        }
      ],
      "source": [
        "# Atividade 1\n",
        "\n",
        "nome = str(input(\"Digite seu nome: \"))\n",
        "\n",
        "print('Ola '+(nome)+', como voce esta?')"
      ]
    },
    {
      "cell_type": "code",
      "source": [
        "# Atividade 2\n",
        "\n",
        "print(\"Seja bem vindo a Calculadora 3000, Vamos comeca ?\")\n",
        "\n",
        "n1 = int(input(\"Digite um numero: \"))\n",
        "n2 = int(input(\"Digite outro numero: \"))\n",
        "\n",
        "soma = n1+n2\n",
        "divisao = n1/n2\n",
        "subtracao = n1-n2\n",
        "multiplicacao = n1*n2\n",
        "\n",
        "print(\"A soma dos numeros é: \", soma)\n",
        "print(\"A divisao dos numeros é: \", divisao)\n",
        "print(\"A subtracao dos numeros é: \", subtracao)\n",
        "print(\"A multiplicacao dos numeros é: \", multiplicacao)\n"
      ],
      "metadata": {
        "colab": {
          "base_uri": "https://localhost:8080/"
        },
        "id": "K-4CA7-NEjc5",
        "outputId": "47f9febd-f6da-4985-b4dc-7709f44ad6a9"
      },
      "execution_count": 6,
      "outputs": [
        {
          "output_type": "stream",
          "name": "stdout",
          "text": [
            "Seja bem vindo a Calculadora 3000, Vamos comeca ?\n",
            "Digite um numero: 10\n",
            "Digite outro numero: 10\n",
            "A soma dos numeros e:  20\n",
            "A divisao dos numeros e:  1.0\n",
            "A subtracao dos numeros e:  0\n",
            "A multiplicacao dos numeros e:  100\n"
          ]
        }
      ]
    },
    {
      "cell_type": "code",
      "source": [
        "# Atividade 3\n",
        "\n",
        "litro = float(1)\n",
        "valoLitro = float(5)\n",
        "kms = float(20)\n",
        "\n",
        "dinheiro = float(input(\"Quanto você tem em dinheiro?:  \"))\n",
        "\n",
        "litrosPossiveis = dinheiro/valoLitro\n",
        "kmsPossiveis = (dinheiro*litro)*4\n",
        "\n",
        "print(\"Com R$\"+str(dinheiro)+\", da para colocar: \"+str(litrosPossiveis)+\" litros, você consiguira fazer: \"+str(kmsPossiveis)+ \"kms\")\n",
        "\n"
      ],
      "metadata": {
        "colab": {
          "base_uri": "https://localhost:8080/"
        },
        "id": "hOfT2v92ESQE",
        "outputId": "f9c34034-fc4d-433f-cbc8-1e28b22789dc"
      },
      "execution_count": 23,
      "outputs": [
        {
          "output_type": "stream",
          "name": "stdout",
          "text": [
            "Quanto você tem em dinheiro?:  20\n",
            "Com R$20.0, da para colocar: 4.0 litros, você consiguira fazer: 80.0kms\n"
          ]
        }
      ]
    },
    {
      "cell_type": "code",
      "source": [
        "# Atividade 4\n",
        "\n",
        "v1 = 15\n",
        "v2 = 10\n",
        "v3 = 5\n",
        "v4 = 0\n",
        "\n",
        "a = (v1 == v2) and (v2 == 10)\n",
        "b = (v1 == 15) and (v2 == 10)\n",
        "c = (v4 == 1) or (v3 == 4)\n",
        "d = (v1 > 10 and v2 < 15) and (v3 < 10 and v4 == 0)\n",
        "e = (v1 < 10 and v2 > 15) or (v3 > 5 or v4 == 0 )\n",
        "\n",
        "print(a)\n",
        "print(b)\n",
        "print(c)\n",
        "print(d)\n",
        "print(e)"
      ],
      "metadata": {
        "colab": {
          "base_uri": "https://localhost:8080/"
        },
        "id": "H15OBHCeJ7CZ",
        "outputId": "6e2731e0-ed1b-40c4-be97-ae87d336dc35"
      },
      "execution_count": 26,
      "outputs": [
        {
          "output_type": "stream",
          "name": "stdout",
          "text": [
            "False\n",
            "True\n",
            "False\n",
            "True\n",
            "True\n"
          ]
        }
      ]
    },
    {
      "cell_type": "code",
      "source": [
        "# Atividade 5\n",
        "\n",
        "diasTotal = int(input(\"Digite uma quantidade de Dias: \"))\n",
        "\n",
        "ano = int(360)\n",
        "mes = int(30)\n",
        "\n",
        "anos = diasTotal//ano\n",
        "meses = (diasTotal%ano)//mes\n",
        "dias = (diasTotal%ano)%mes\n",
        "\n",
        "\n",
        "print((anos), \"anos\")\n",
        "print((meses), \"meses\")\n",
        "print((dias), \"dias\")"
      ],
      "metadata": {
        "colab": {
          "base_uri": "https://localhost:8080/"
        },
        "id": "L6JAH-sUJ7TU",
        "outputId": "484a6a32-33ea-4ccb-ea27-d387e7af77ff"
      },
      "execution_count": 50,
      "outputs": [
        {
          "output_type": "stream",
          "name": "stdout",
          "text": [
            "Digite uma quantidade de Dias: 523\n",
            "1 anos\n",
            "5 meses\n",
            "13 dias\n"
          ]
        }
      ]
    },
    {
      "cell_type": "code",
      "source": [
        "# Atividade 6\n",
        "\n",
        "a = int(5)\n",
        "b = int(10)\n",
        "c = int(-8)\n",
        "d = float(1.5)\n",
        "\n",
        "result_a = 2*a % 3-c\n",
        "result_b = ((-2*c)**(1/2))//4\n",
        "result_c = ((20//3)//3)+(8**2)/2\n",
        "result_d = (30%4*(3**3))*-1\n",
        "result_e = (-c**2)+(d*10)/a\n",
        "result_f = ((a**b/a)**(1/2))+c*d\n",
        "\n",
        "\n",
        "print(result_a)\n",
        "print(result_b)\n",
        "print(result_c)\n",
        "print(result_d)\n",
        "print(result_e)\n",
        "print(result_f)\n"
      ],
      "metadata": {
        "colab": {
          "base_uri": "https://localhost:8080/"
        },
        "id": "KmQlwdisJ7yH",
        "outputId": "4f0e0ae6-96b3-468a-8f2e-05c6a271b271"
      },
      "execution_count": 32,
      "outputs": [
        {
          "output_type": "stream",
          "name": "stdout",
          "text": [
            "9\n",
            "1.0\n",
            "34.0\n",
            "-54\n",
            "-61.0\n",
            "1385.5424859373686\n"
          ]
        }
      ]
    }
  ]
}